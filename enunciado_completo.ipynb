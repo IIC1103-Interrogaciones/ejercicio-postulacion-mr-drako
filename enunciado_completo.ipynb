{
 "cells": [
  {
   "cell_type": "markdown",
   "metadata": {},
   "source": [
    "# Ejercicio de Postulación - Área de Interrogaciones"
   ]
  },
  {
   "cell_type": "markdown",
   "metadata": {},
   "source": [
    "Nombre: Manuel Maureira\n",
    "\n",
    "Email: m.j.manuel.jesus@estudiante.uc.cl\n",
    "\n",
    "Telegram: manueh"
   ]
  },
  {
   "cell_type": "markdown",
   "metadata": {},
   "source": [
    "## Código solución (NO MODIFICAR)"
   ]
  },
  {
   "cell_type": "code",
   "execution_count": 1,
   "metadata": {},
   "outputs": [],
   "source": [
    "#code.py\n",
    "def obtener_proximos(partidos, equipo):\n",
    "    equipos = []\n",
    "    ex_rivales = []\n",
    "    for partido in partidos:\n",
    "        if partido[0] not in equipos:\n",
    "            equipos.append(partido[0])\n",
    "        if partido[1] not in equipos:\n",
    "            equipos.append(partido[1])\n",
    "        if equipo == partido[0]:\n",
    "            ex_rivales.append(partido[1])\n",
    "        if equipo == partido[1]:\n",
    "            ex_rivales.append(partido[0])\n",
    "    pendientes = []\n",
    "    for rival in equipos:\n",
    "        if rival not in ex_rivales:\n",
    "            pendientes.append(rival)\n",
    "    return pendientes\n"
   ]
  },
  {
   "cell_type": "markdown",
   "metadata": {},
   "source": [
    "## Runner Personalizado (Opcional Modificar) "
   ]
  },
  {
   "cell_type": "markdown",
   "metadata": {},
   "source": [
    "Se tendra en consideración si logran hacer que los outputs sean iguales (solo modificando el runner) independiente del orden en que retornen los elementos en la lista."
   ]
  },
  {
   "cell_type": "code",
   "execution_count": null,
   "metadata": {},
   "outputs": [],
   "source": [
    "from functools import partial\n",
    "\n",
    "def obtener_proximos_modificada(func_original, partidos, equipo):\n",
    "    resultado = func_original(partidos, equipo)\n",
    "    # Cambiar Comportamiento de la función original (opcional)\n",
    "    return resultado\n",
    "\n",
    "# Con esto reescribimos la función original para capturar el capturar resultado del alumno y modificarlo si es necesario\n",
    "obtener_proximos = partial(obtener_proximos_modificada, obtener_proximos)\n"
   ]
  },
  {
   "cell_type": "markdown",
   "metadata": {},
   "source": [
    "## Enunciado"
   ]
  },
  {
   "cell_type": "markdown",
   "metadata": {},
   "source": [
    "# Pregunta X: DDCampeonato: Liga Neo-Computista ⚽\n",
    "\n",
    "## Introducción\n",
    "\n",
    "Durante las vacaciones decidiste descancar y explorar nuevas cosas, ahí descubriste el manga de *Blue lock*, fue tal tu gusto por el manga que apenas volviste de vacaciones decidiste llegar al DCC y proponer hacer un campeonato, como en el DCC todos son otakus aceptaron la idea gustosos, y así nació el **DDCampeonato: Liga Neo-Computista**.\n",
    "Lamentablemente como tú fuiste el de la idea te tocó organizar el campeonato, así que decides partir creando una función para obtener los partidos siguientes de un equipo, teniendo en cuenta que todos los equipos deben jugar contra todos 1 vez (igual que en la liga Neo-egoísta).\n",
    "\n",
    "## Objetivo\n",
    "\n",
    "Tu objetivo es definir la función `obtener_proximos` la cual recibe `partidos`, una lista de listas que esta compuesta por listas de la forma `[\"nombre_equipo_X\", \"nombre_equipo_Y\"]`, también recibe un *string* `equipo` el cual es el nombre del equipo a revisar.\n",
    "La función debe retornar una lista con todos los equipos con los que aún no juega.\n",
    "\n",
    "El *input* será automaticamente recibido, por lo que tu única tarea es definir la función `obtener_proximos(partidos, equipo)`. De igual manera la primera fila linea será una lista de listas de partidos, la segunda linea será un *string*, y en la tercera linea se llamará a la función ocupando como parametros las dos primeras lineas y en la cuarta linea se imprimira la lista de equipos.\n",
    "\n",
    "## Ejemplos\n",
    "\n",
    "### Ejemplo 1\n",
    "\n",
    "**Input**\n",
    "```python\n",
    "partidos = [[\"Bastard Munchen\", \"FC Barcha\"],\n",
    "            [\"PXG\", \"Ubers\"],\n",
    "            [\"Bastard Munchen\", \"Manshine City\"],\n",
    "            [\"PXG\", \"FC Barcha\"],\n",
    "            [\"Bastard Munchen\", \"Ubers\"]]\n",
    "equipo = \"Bastard Munchen\"\n",
    "resultado = obtener_proximos(partidos, equipo)\n",
    "print(resultado)\n",
    "```\n",
    "\n",
    "**Output**\n",
    "```python\n",
    "[\"PXG\"]\n",
    "```\n",
    "\n",
    "**Explicación**: Los 5 equipos presentes en el campeonato son `\"Bastard Munchen\"`, `\"FC Barcha\"`, `\"PXG\"`, `\"Manshine City\"`y `\"Ubers\"`, el equipo el cual nos piden revisar es `\"Bastard Munchen\"` si vemos la lista de partidos `\"Bastard Munchen\"` ha jugado partidos contra todos los equipos menos contra el `\"PXG\"` por tanto la función retorna `[\"PXG\"]`\n",
    "\n",
    "### Ejemplo 2\n",
    "\n",
    "**Input**\n",
    "```python\n",
    "partidos = [[\"Team Z\", \"Team X\"],\n",
    "            [\"Team Z\", \"Team Y\"],\n",
    "            [\"Team Z\", \"Team W\"],\n",
    "            [\"Team Z\", \"Team V\"]]\n",
    "equipo = \"Team Z\"\n",
    "resultado = obtener_proximos(partidos, equipo)\n",
    "print(resultado)\n",
    "```\n",
    "\n",
    "**Output**\n",
    "```python\n",
    "[]\n",
    "```\n",
    "**Explicación**: Los 5 equipos presentes en el campeonato son `\"Team Z\"`, `\"Team X\"`, `\"Team Y\"`, `\"Team W\"`, `\"Team V\"`, el equipo el cual vamos a revisar es el `\"Team Z\"`, revisando la lista de partidos `\"Team Z\"` ha jugado partidos contra todos los equipos del campeonato por lo que la función debe retornar una lista vacía, ya que no tiene equipos pendientes contra los que jugar."
   ]
  },
  {
   "cell_type": "markdown",
   "metadata": {},
   "source": [
    "## Testcases"
   ]
  },
  {
   "cell_type": "markdown",
   "metadata": {},
   "source": [
    "### Testcase 1"
   ]
  },
  {
   "cell_type": "markdown",
   "metadata": {},
   "source": [
    "#### Input"
   ]
  },
  {
   "cell_type": "code",
   "execution_count": null,
   "metadata": {},
   "outputs": [],
   "source": [
    "partidos = [[\"Bastard Munchen\", \"FC Barcha\"],\n",
    "            [\"PXG\", \"Ubers\"],\n",
    "            [\"Bastard Munchen\", \"Manshine City\"],\n",
    "            [\"PXG\", \"FC Barcha\"],\n",
    "            [\"Bastard Munchen\", \"Ubers\"],\n",
    "            [\"Bastard Munchen\", \"Ubers\"]]\n",
    "equipo = \"Bastard Munchen\"\n",
    "resultado = obtener_proximos(partidos, equipo)\n",
    "print(resultado)"
   ]
  },
  {
   "cell_type": "markdown",
   "metadata": {},
   "source": [
    "#### Output"
   ]
  },
  {
   "cell_type": "code",
   "execution_count": null,
   "metadata": {},
   "outputs": [],
   "source": [
    "['PXG']"
   ]
  },
  {
   "cell_type": "markdown",
   "metadata": {},
   "source": [
    "### Testcase 2"
   ]
  },
  {
   "cell_type": "markdown",
   "metadata": {},
   "source": [
    "#### Input"
   ]
  },
  {
   "cell_type": "code",
   "execution_count": null,
   "metadata": {},
   "outputs": [],
   "source": [
    "partidos = [[\"Team Z\", \"Team X\"],\n",
    "            [\"Team Z\", \"Team Y\"],\n",
    "            [\"Team Z\", \"Team W\"],\n",
    "            [\"Team Z\", \"Team V\"]]\n",
    "equipo = \"Team Z\"\n",
    "resultado = obtener_proximos(partidos, equipo)\n",
    "print(resultado)"
   ]
  },
  {
   "cell_type": "markdown",
   "metadata": {},
   "source": [
    "#### Output"
   ]
  },
  {
   "cell_type": "code",
   "execution_count": null,
   "metadata": {},
   "outputs": [],
   "source": [
    "[]"
   ]
  },
  {
   "cell_type": "markdown",
   "metadata": {},
   "source": [
    "### Testcase 3"
   ]
  },
  {
   "cell_type": "markdown",
   "metadata": {},
   "source": [
    "#### Input"
   ]
  },
  {
   "cell_type": "code",
   "execution_count": null,
   "metadata": {},
   "outputs": [],
   "source": [
    "partidos = []\n",
    "equipo = \"Top Five\"\n",
    "resultado = obtener_proximos(partidos, equipo)\n",
    "print(resultado)"
   ]
  },
  {
   "cell_type": "markdown",
   "metadata": {},
   "source": [
    "#### Output"
   ]
  },
  {
   "cell_type": "code",
   "execution_count": null,
   "metadata": {},
   "outputs": [],
   "source": [
    "[]"
   ]
  }
 ],
 "metadata": {
  "kernelspec": {
   "display_name": "Python 3",
   "language": "python",
   "name": "python3"
  },
  "language_info": {
   "codemirror_mode": {
    "name": "ipython",
    "version": 3
   },
   "file_extension": ".py",
   "mimetype": "text/x-python",
   "name": "python",
   "nbconvert_exporter": "python",
   "pygments_lexer": "ipython3",
   "version": "3.11.7"
  }
 },
 "nbformat": 4,
 "nbformat_minor": 4
}
